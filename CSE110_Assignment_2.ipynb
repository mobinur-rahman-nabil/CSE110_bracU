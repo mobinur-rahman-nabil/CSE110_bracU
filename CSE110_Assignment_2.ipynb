{
  "nbformat": 4,
  "nbformat_minor": 0,
  "metadata": {
    "colab": {
      "provenance": []
    },
    "kernelspec": {
      "name": "python3",
      "display_name": "Python 3"
    },
    "language_info": {
      "name": "python"
    }
  },
  "cells": [
    {
      "cell_type": "code",
      "execution_count": null,
      "metadata": {
        "id": "p23JLgOrvAHA"
      },
      "outputs": [],
      "source": [
        "#task1\n",
        "import math\n",
        "radius=int(input())\n",
        "circumference=2*math.pi*radius\n",
        "area=math.pi*(radius**2)\n",
        "print(\"Area is\", area,\"\\n\"+\"Circumference is\", circumference)"
      ]
    },
    {
      "cell_type": "code",
      "source": [
        "#try"
      ],
      "metadata": {
        "id": "EhtBsTVtvJUj"
      },
      "execution_count": null,
      "outputs": []
    },
    {
      "cell_type": "code",
      "source": [
        "#try"
      ],
      "metadata": {
        "id": "gBmC209tvJbn"
      },
      "execution_count": null,
      "outputs": []
    },
    {
      "cell_type": "code",
      "source": [
        "#task4\n",
        "a=int(input())\n",
        "b=int(input())\n",
        "if a>b:\n",
        "  print(a-b)\n",
        "else:\n",
        "  print(b-a)"
      ],
      "metadata": {
        "id": "ayuDZPlqvJjY"
      },
      "execution_count": null,
      "outputs": []
    },
    {
      "cell_type": "code",
      "source": [
        "#task5\n",
        "a=int(input())\n",
        "if a%2==0:\n",
        "  print(\"The number is even\")\n",
        "else:\n",
        "  print(\"The number is odd\")"
      ],
      "metadata": {
        "id": "ojDJsqoEvJqs"
      },
      "execution_count": null,
      "outputs": []
    },
    {
      "cell_type": "code",
      "source": [
        "#mutiple , things code\n",
        "a=int(input())\n",
        "if a%2==0 or a%5==0:\n",
        "  print(a)\n",
        "else:\n",
        "  print(\"Not a multiple of 2 OR 5\")"
      ],
      "metadata": {
        "id": "SkviyHtxv4Wi"
      },
      "execution_count": null,
      "outputs": []
    },
    {
      "cell_type": "code",
      "source": [
        "#task6\n",
        "a=int(input())\n",
        "if a%2==0 or a%5==0:\n",
        "  print(a)\n",
        "else:\n",
        "  print(\"Not a multiple of 2 OR 5\")"
      ],
      "metadata": {
        "id": "vLQnkIgnvJzd"
      },
      "execution_count": null,
      "outputs": []
    },
    {
      "cell_type": "code",
      "source": [
        "#task7\n",
        "a=int(input())\n",
        "if a%2==0 and a%5==0:\n",
        "  print(\"Multiple of 2 and 5 both\")\n",
        "elif (a%2==0 or a%5==0) and not (a%2==0 and a%5==0):\n",
        "  print(a)\n",
        "else:\n",
        "  print(\"Not a multiple we want\")"
      ],
      "metadata": {
        "id": "y4XLErwlvJ7R"
      },
      "execution_count": null,
      "outputs": []
    },
    {
      "cell_type": "code",
      "source": [
        "#task8\n",
        "try"
      ],
      "metadata": {
        "id": "SdfCxRF9vKDN"
      },
      "execution_count": null,
      "outputs": []
    },
    {
      "cell_type": "code",
      "source": [
        "#task9\n",
        "given_seconds=int(input())\n",
        "hour=given_seconds//3600\n",
        "remainder1=given_seconds%3600\n",
        "minutes=remainder1//60\n",
        "seconds=remainder1%60\n",
        "print(\"Hour:\",hour,\"Minutes:\",minutes,\"seconds:\", seconds)"
      ],
      "metadata": {
        "id": "9HVURud0vKLy"
      },
      "execution_count": null,
      "outputs": []
    },
    {
      "cell_type": "code",
      "source": [
        "#task10\n",
        "hour=int(input())\n",
        "\n",
        "if 0<=hour<=168:\n",
        "  if hour<=40:\n",
        "    print(200*hour)\n",
        "  elif hour>40:\n",
        "    print(8000+300*(hour-40))\n",
        "elif hour>168:\n",
        "  print(\"Impossible to work more than 168 hours weekly\")\n",
        "else:\n",
        "  print(\"Hour cannot be negative\")"
      ],
      "metadata": {
        "id": "ZN1Q_qpZvKUE"
      },
      "execution_count": null,
      "outputs": []
    },
    {
      "cell_type": "code",
      "source": [
        "#task11\n",
        "#try its easier"
      ],
      "metadata": {
        "id": "xXrv0K3Ewc4T"
      },
      "execution_count": null,
      "outputs": []
    },
    {
      "cell_type": "code",
      "source": [
        "#task12\n",
        "\n",
        "hour=int(input())\n",
        "if 0<=hour<=23: #learn this f\"{}\" and how it works and also for this nested condition where did i put that\n",
        "  if 4<=hour<=6:\n",
        "    meal=\"Breakfast\"\n",
        "  elif 12<=hour<=13:\n",
        "    meal=\"Lunch\"\n",
        "  elif 16<=hour<=17:\n",
        "    meal=\"Snacks\"\n",
        "  elif 19<=hour<=20:\n",
        "    meal=\"Dinner\"\n",
        "  else:\n",
        "    meal=\"Patience is virtue\"\n",
        "  print(f\"{meal}.\")\n",
        "else:\n",
        "  print(\"Wrong time\")"
      ],
      "metadata": {
        "id": "3w255i1AwgT0"
      },
      "execution_count": null,
      "outputs": []
    },
    {
      "cell_type": "code",
      "source": [
        "#task13\n",
        "#try"
      ],
      "metadata": {
        "id": "WFNiYYbxwgY0"
      },
      "execution_count": null,
      "outputs": []
    },
    {
      "cell_type": "code",
      "source": [
        "#task14-task19\n",
        "#try"
      ],
      "metadata": {
        "id": "bi5L_3AGwgej"
      },
      "execution_count": null,
      "outputs": []
    },
    {
      "cell_type": "code",
      "source": [
        "#task20\n",
        "a=int(input())\n",
        "if a%2!=0 and a%5!=0:\n",
        "  print(a)\n",
        "else:\n",
        "  print(\"No\")\n",
        "\n"
      ],
      "metadata": {
        "id": "te6oRiOOwghW"
      },
      "execution_count": null,
      "outputs": []
    },
    {
      "cell_type": "code",
      "source": [
        "#task21\n",
        "a=int(input())\n",
        "if a%2!=0 or b%5!=0:\n",
        "  print(a)\n",
        "else:\n",
        "  print(\"No\")"
      ],
      "metadata": {
        "id": "T2yFM26ow6AM"
      },
      "execution_count": null,
      "outputs": []
    },
    {
      "cell_type": "code",
      "source": [
        "#task22\n",
        "canvas=int(input())\n",
        "tubes=int(input())\n",
        "canvas_p=120\n",
        "tubes_p=75\n",
        "total_money=canvas*canvas_p+tubes*tubes_p\n",
        "\n",
        "if 0<=total_money<=299:\n",
        "  discount=\"No Discount\"\n",
        "elif 300<=total_money<=499:\n",
        "  discount=10\n",
        "elif 500<=total_money<=749: #you cant use string\"\" to addition\"\n",
        "  discount=20\n",
        "elif 750<=total_money<=999:\n",
        "  discount=50\n",
        "elif total_money>=1000:\n",
        "  discount=150\n",
        "with_discount=total_money-discount\n",
        "print(\"Previous total:\",total_money)\n",
        "print(f\"New total after discount: {with_discount}\")"
      ],
      "metadata": {
        "id": "2zLeU2BNw9Z8"
      },
      "execution_count": null,
      "outputs": []
    }
  ]
}