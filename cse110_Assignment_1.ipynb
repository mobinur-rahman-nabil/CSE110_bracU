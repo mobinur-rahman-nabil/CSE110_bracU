{
  "nbformat": 4,
  "nbformat_minor": 0,
  "metadata": {
    "colab": {
      "provenance": []
    },
    "kernelspec": {
      "name": "python3",
      "display_name": "Python 3"
    },
    "language_info": {
      "name": "python"
    }
  },
  "cells": [
    {
      "cell_type": "code",
      "execution_count": null,
      "metadata": {
        "id": "Q97kp5w9qQ-Y"
      },
      "outputs": [],
      "source": [
        "#try yourself"
      ]
    },
    {
      "cell_type": "code",
      "source": [
        "#give a try"
      ],
      "metadata": {
        "id": "6Tn4z1m5q6SN"
      },
      "execution_count": null,
      "outputs": []
    },
    {
      "cell_type": "code",
      "source": [
        "#assignment1\n",
        "#task3\n",
        "session= \"Fall\"\n",
        "year= 2022\n",
        "print(session+\"\\n\"+str(year)) # if u use \\n to spreate line \\n should be concatinated with strings always\n",
        "\n",
        "print(session,year)\n",
        "#method2\n",
        "\n",
        "season = \"Fall\"\n",
        "year = 2022\n",
        "print(season, year, sep='\\n')\n"
      ],
      "metadata": {
        "id": "UiHa4S32q6cm"
      },
      "execution_count": null,
      "outputs": []
    },
    {
      "cell_type": "code",
      "source": [
        "#task4\n",
        "name=input(\"Name please: \")\n",
        "print(\"Your name is\",name)"
      ],
      "metadata": {
        "id": "O49_xJvfq6kc"
      },
      "execution_count": null,
      "outputs": []
    },
    {
      "cell_type": "code",
      "source": [
        "#task5\n",
        "M=int(input())\n",
        "N=int(input())\n",
        "print(\"M^N\"+\":\"+str(M**N))\n",
        "#diff------------------------------------------------\n",
        "\n",
        "#main method\n",
        "M=int(input())\n",
        "N=int(input())\n",
        "print(str(M)+\"^\"+str(N)+\":\"+str(M**N))"
      ],
      "metadata": {
        "id": "prRYF3ipq6tX"
      },
      "execution_count": null,
      "outputs": []
    },
    {
      "cell_type": "code",
      "source": [
        "#task6\n",
        "corners=4\n",
        "total_weight=int(input())\n",
        "modulas=total_weight%corners #do mod\n",
        "maximum_load=total_weight-modulas #do minus\n",
        "print(maximum_load)\n",
        "\n",
        "#method2\n",
        "corners=4\n",
        "total_weight=int(input())\n",
        "floor=total_weight//corners #do floor\n",
        "maximum_load=corners*floor #do into\n",
        "print(maximum_load)"
      ],
      "metadata": {
        "id": "wPsk9JXjq63f"
      },
      "execution_count": null,
      "outputs": []
    },
    {
      "cell_type": "code",
      "source": [
        "#task7\n",
        "a=int(input())\n",
        "b=int(input())\n",
        "c=int(input())\n",
        "d=float(input())\n",
        "result= a**c+b*a-d/3\n",
        "print(int(result))"
      ],
      "metadata": {
        "id": "uVSB9BAerJ-R"
      },
      "execution_count": null,
      "outputs": []
    },
    {
      "cell_type": "code",
      "source": [
        "#task8\n",
        "chocolates=int(input())\n",
        "num_fren=3\n",
        "quotient=chocolates//num_fren\n",
        "print(\"Each fren will receive\",str(chocolates//num_fren)+\"\\n\"+\"the num of remain chocolates\", str(chocolates-quotient*3))\n",
        "\n",
        "\n",
        "\n",
        "#method2\n",
        "chocolates=int(input())\n",
        "num_fren=3\n",
        "quotient=chocolates//num_fren\n",
        "print(\"Each fren will receive\",str(chocolates//num_fren))\n",
        "print(\"the num of remain chocolates\", str(chocolates-quotient*3))"
      ],
      "metadata": {
        "id": "Q_kRENZxrPOp"
      },
      "execution_count": null,
      "outputs": []
    },
    {
      "cell_type": "code",
      "source": [
        "#task9\n",
        "M=input()\n",
        "N=input()\n",
        "print(str(N)+str(M))\n"
      ],
      "metadata": {
        "id": "50CibTfvrT3Z"
      },
      "execution_count": null,
      "outputs": []
    },
    {
      "cell_type": "code",
      "source": [
        "#task10\n",
        "line=input()\n",
        "if line:\n",
        "  first_cha=line[0]\n",
        "  print(first_cha)\n",
        "else:\n",
        "  None"
      ],
      "metadata": {
        "id": "x0ZoVr28rdAX"
      },
      "execution_count": null,
      "outputs": []
    },
    {
      "cell_type": "code",
      "source": [
        "#task11\n",
        "a=int(input())\n",
        "if a%2==0:\n",
        "  print(True)\n",
        "else:\n",
        "  print(False)"
      ],
      "metadata": {
        "id": "bgdSO-bsrenH"
      },
      "execution_count": null,
      "outputs": []
    }
  ]
}